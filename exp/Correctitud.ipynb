{
 "cells": [
  {
   "cell_type": "code",
   "execution_count": 2,
   "metadata": {},
   "outputs": [
    {
     "data": {
      "text/plain": [
       "['arbol1000.txt',\n",
       " 'completo1000.txt',\n",
       " 'completo2000.txt',\n",
       " 'random1000.txt',\n",
       " 'simple.txt',\n",
       " 'trivial.txt',\n",
       " 'vacio.txt']"
      ]
     },
     "execution_count": 2,
     "metadata": {},
     "output_type": "execute_result"
    }
   ],
   "source": [
    "in_files_tmp = check_output([\"ls\",\"../test\"]).decode(sys.stdout.encoding).split(\"\\n\")\n",
    "\n",
    "in_files=list(filter(lambda x : '.txt' in x , in_files_tmp))\n",
    "\n",
    "in_files"
   ]
  },
  {
   "cell_type": "code",
   "execution_count": null,
   "metadata": {},
   "outputs": [
    {
     "name": "stdout",
     "output_type": "stream",
     "text": [
      "------------------------------------------------------\n",
      "Analizando archivo:arbol1000.txt\n",
      "['python', 'prim.py', '../test/arbol1000.txt']\n",
      "5094\n",
      "\n",
      "------------------------------------------------------\n",
      "Analizando archivo:completo1000.txt\n",
      "['python', 'prim.py', '../test/completo1000.txt']\n"
     ]
    }
   ],
   "source": [
    "from subprocess import check_output, sys\n",
    "\n",
    "\n",
    "run_args_python=[\"python\",\"prim.py\",\"\"]\n",
    "run_args_cpp=[\"./../TP1\",\"-t\",\"\",\"2\"]\n",
    "\n",
    "for file in in_files:\n",
    "    print(\"------------------------------------------------------\")\n",
    "    print(\"Analizando archivo:\"+file)\n",
    "    file_path=\"../test/\"+file\n",
    "    run_args_python[2]=file_path\n",
    "\n",
    "    print(run_args_python)\n",
    "    weight_python = check_output(run_args_python).decode(sys.stdout.encoding)\n",
    "    \n",
    "    print(weight_python)"
   ]
  },
  {
   "cell_type": "code",
   "execution_count": null,
   "metadata": {},
   "outputs": [],
   "source": [
    "from subprocess import check_output, sys\n",
    "\n",
    "\n",
    "run_args_python=[\"python\",\"prim.py\",\"\"]\n",
    "run_args_cpp=[\"./../TP1\",\"-t\",\"\",\"2\"]\n",
    "\n",
    "for file in in_files:\n",
    "    print(\"------------------------------------------------------\")\n",
    "    print(\"Analizando archivo:\"+file)\n",
    "    file_path=\"../test/\"+file\n",
    "\n",
    "    run_args_cpp[2]=file_path\n",
    "\n",
    "    out2 = check_output(run_args_cpp).decode(sys.stdout.encoding).split(\"\\n\")\n",
    "    print(run_args_cpp)\n",
    "    "
   ]
  },
  {
   "cell_type": "code",
   "execution_count": null,
   "metadata": {},
   "outputs": [
    {
     "name": "stdout",
     "output_type": "stream",
     "text": [
      "------------------------------------------------------\n",
      "Analizando archivo:../test/experimentacion/completo/completo400.txt\n",
      "['python', 'prim.py', '../test/experimentacion/completo/completo400.txt']\n"
     ]
    }
   ],
   "source": [
    "from subprocess import check_output, sys\n",
    "from pathlib import Path\n",
    "import os\n",
    "\n",
    "listTest=[]\n",
    "run_args_python=[\"python\",\"prim.py\",\"\"]\n",
    "run_args_cpp=[\"./../TP1\",\"-t\",\"\",\"2\"]\n",
    "\n",
    "for root, dirs, files in os.walk(\"../test/experimentacion\"):\n",
    "    for file in files:\n",
    "        if file.endswith(\".txt\") and not file.endswith(\"900.txt\") and not file.endswith(\"1000.txt\"):\n",
    "             listTest.append(os.path.join(root, file))\n",
    "\n",
    "for file in listTest:\n",
    "    print(\"------------------------------------------------------\")\n",
    "    print(\"Analizando archivo:\"+file)\n",
    "    run_args_python[2]=file\n",
    "    run_args_cpp[2]=file\n",
    "    print(run_args_python)\n",
    "    weight_python = check_output(run_args_python).decode(sys.stdout.encoding)\n",
    "    \n",
    "    out2 = check_output(run_args_cpp).decode(sys.stdout.encoding).split(\"\\n\")\n",
    "    filteredList = list(filter(lambda x : '-' not in x , out2))\n",
    "    qty_nodes_base=filteredList[0].split(\"= \")[1]\n",
    "    qty_ejes_base=filteredList[1].split(\"= \")[1]\n",
    "    qty_nodes_resultante=filteredList[2].split(\": \")[1]\n",
    "    qty_ejes_resultante=filteredList[3].split(\": \")[1]\n",
    "    weight_implementationCpp=filteredList[4].split(\": \")[1]\n",
    "    esConexo=filteredList[5]=='El grafo es conexo';\n",
    "    if(qty_nodes_base==qty_nodes_resultante):\n",
    "        print(\"La cantidad de nodos inicial coincide con la que termina el grafo resultante\\n\")\n",
    "    print(qty_nodes_base)\n",
    "    print(qty_ejes_resultante)\n",
    "    if(int(qty_nodes_base)-1==int(qty_ejes_resultante)):\n",
    "        print(\"No hay ciclos\\n\")\n",
    "\n",
    "    if(int(weight_python)==int(weight_implementationCpp)):\n",
    "        print(\"Tiene el mismo peso que una solucion valida de mst\\n\")\n",
    "\n",
    "    if(esConexo):\n",
    "        print(\"Y es conexo\\n\")"
   ]
  },
  {
   "cell_type": "code",
   "execution_count": null,
   "metadata": {},
   "outputs": [],
   "source": []
  },
  {
   "cell_type": "code",
   "execution_count": null,
   "metadata": {},
   "outputs": [],
   "source": []
  },
  {
   "cell_type": "code",
   "execution_count": null,
   "metadata": {},
   "outputs": [],
   "source": []
  }
 ],
 "metadata": {
  "kernelspec": {
   "display_name": "Python 3",
   "language": "python",
   "name": "python3"
  },
  "language_info": {
   "codemirror_mode": {
    "name": "ipython",
    "version": 3
   },
   "file_extension": ".py",
   "mimetype": "text/x-python",
   "name": "python",
   "nbconvert_exporter": "python",
   "pygments_lexer": "ipython3",
   "version": "3.7.4"
  }
 },
 "nbformat": 4,
 "nbformat_minor": 2
}
