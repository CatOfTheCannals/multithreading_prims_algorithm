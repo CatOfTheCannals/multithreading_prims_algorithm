{
 "cells": [
  {
   "cell_type": "markdown",
   "metadata": {},
   "source": [
    "### path graph"
   ]
  },
  {
   "cell_type": "code",
   "execution_count": 11,
   "metadata": {},
   "outputs": [
    {
     "data": {
      "text/plain": [
       "EdgeDataView([(0, 1, {'weight': 4}), (1, 2, {'weight': 5}), (2, 3, {'weight': 5}), (3, 4, {'weight': 5}), (4, 5, {'weight': 3}), (5, 6, {'weight': 4}), (6, 7, {'weight': 10}), (7, 8, {'weight': 1}), (8, 9, {'weight': 5})])"
      ]
     },
     "execution_count": 11,
     "metadata": {},
     "output_type": "execute_result"
    }
   ],
   "source": [
    "from networkx.generators.classic import path_graph\n",
    "\n",
    "import random\n",
    "\n",
    "n = 10\n",
    "\n",
    "G = nx.path_graph(n)\n",
    "for (u, v, w) in G.edges(data=True):\n",
    "    w['weight'] = random.randint(1, n)\n",
    "    \n",
    "G.edges(data=True)"
   ]
  },
  {
   "cell_type": "code",
   "execution_count": null,
   "metadata": {},
   "outputs": [],
   "source": [
    "import networkx as nx\n",
    "from networkx.generators.classic import path_graph\n",
    "import random\n",
    "\n",
    "for i in range(100,1001,100):\n",
    "    n = i\n",
    "    \n",
    "    G = nx.path_graph(n) # lista enlazada\n",
    "    for (u, v, w) in G.edges(data=True):\n",
    "        w['weight'] = random.randint(1, n)\n",
    "\n",
    "    m = G.number_of_edges()\n",
    "    tamanios = \"{}\\n{}\\n\".format(n, m)\n",
    "    tamaniosBytes = bytes(tamanios, \"utf-8\")\n",
    "    with open(\"experimentacion/lista_enlazada/lista_enlazada\" + str(i) + \".txt\", \"wb\") as file:  # te hace el open y el close\n",
    "        file.write(tamaniosBytes)\n",
    "        nx.write_weighted_edgelist(G, file)\n",
    "\n"
   ]
  },
  {
   "cell_type": "markdown",
   "metadata": {},
   "source": [
    "### star graph"
   ]
  },
  {
   "cell_type": "code",
   "execution_count": 16,
   "metadata": {},
   "outputs": [
    {
     "data": {
      "text/plain": [
       "EdgeDataView([(0, 1, {'weight': 4}), (0, 2, {'weight': 3}), (0, 3, {'weight': 4}), (0, 4, {'weight': 2}), (0, 5, {'weight': 2})])"
      ]
     },
     "execution_count": 16,
     "metadata": {},
     "output_type": "execute_result"
    }
   ],
   "source": [
    "\n",
    "from networkx.generators.classic import star_graph\n",
    "\n",
    "n = 5\n",
    "\n",
    "G = nx.star_graph(n) # lista enlazada\n",
    "for (u, v, w) in G.edges(data=True):\n",
    "    w['weight'] = random.randint(1, n)\n"
   ]
  },
  {
   "cell_type": "code",
   "execution_count": null,
   "metadata": {},
   "outputs": [],
   "source": [
    "import networkx as nx\n",
    "from networkx.generators.classic import star_graph\n",
    "import random\n",
    "\n",
    "for i in range(100,1001,100):\n",
    "    n = i\n",
    "    \n",
    "    G = nx.star_graph(n) # lista enlazada\n",
    "    for (u, v, w) in G.edges(data=True):\n",
    "        w['weight'] = random.randint(1, n)\n",
    "\n",
    "    m = G.number_of_edges()\n",
    "    tamanios = \"{}\\n{}\\n\".format(n, m)\n",
    "    tamaniosBytes = bytes(tamanios, \"utf-8\")\n",
    "    with open(\"experimentacion/lista_enlazada/lista_enlazada\" + str(i) + \".txt\", \"wb\") as file:  # te hace el open y el close\n",
    "        file.write(tamaniosBytes)\n",
    "        nx.write_weighted_edgelist(G, file)\n",
    "\n",
    "\n"
   ]
  }
 ],
 "metadata": {
  "kernelspec": {
   "display_name": "Python 3",
   "language": "python",
   "name": "python3"
  },
  "language_info": {
   "codemirror_mode": {
    "name": "ipython",
    "version": 3
   },
   "file_extension": ".py",
   "mimetype": "text/x-python",
   "name": "python",
   "nbconvert_exporter": "python",
   "pygments_lexer": "ipython3",
   "version": "3.6.8"
  }
 },
 "nbformat": 4,
 "nbformat_minor": 2
}
