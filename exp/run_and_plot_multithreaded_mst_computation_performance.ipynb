{
 "cells": [
  {
   "cell_type": "markdown",
   "metadata": {},
   "source": [
    "# run_and_plot_multithreaded_mst_computation_performance"
   ]
  },
  {
   "cell_type": "code",
   "execution_count": 4,
   "metadata": {},
   "outputs": [
    {
     "name": "stdout",
     "output_type": "stream",
     "text": [
      "Makefile             \u001b[31mfastsync.py\u001b[m\u001b[m*         sync.log\r\n",
      "README               grafo.cpp            \u001b[34mtest\u001b[m\u001b[m/\r\n",
      "\u001b[31mborrar_logs.sh\u001b[m\u001b[m*      grafo.h              tp1_grafo.cpp\r\n",
      "\u001b[34mexp\u001b[m\u001b[m/                 \u001b[34mprimera_entrega\u001b[m\u001b[m/     tp1_grafo_old.cpp\r\n",
      "fastfiles            primera_entrega.zip  \u001b[31mwatch.sh\u001b[m\u001b[m*\r\n"
     ]
    }
   ],
   "source": [
    "ls ../tp1"
   ]
  },
  {
   "cell_type": "code",
   "execution_count": null,
   "metadata": {},
   "outputs": [],
   "source": [
    "from subprocess import Popen, PIPE\n",
    "\n",
    "def flatten_list_of_strings(args):\n",
    "    output = ''\n",
    "    for s in args:\n",
    "        output += s\n",
    "        output += ' '\n",
    "    return output\n",
    "\n",
    "def str_to_num(s):\n",
    "    if '.' in s:\n",
    "        return float(s)\n",
    "    else:\n",
    "        return int(s)\n",
    "\n",
    "class ExpRunner():\n",
    "\n",
    "    def __init__(self, filter_name, input_image_path, implementation, output_image_dir, verbose=False):\n",
    "        self.tp_exec = '../build/tp2'\n",
    "        self.filter_name = filter_name\n",
    "        self.exp_results = {'filter_name': filter_name, 'implementation': implementation}\n",
    "        self.run_args = [self.tp_exec, \n",
    "                         filter_name, \n",
    "                         input_image_path, \n",
    "                         \"-i\", implementation, \n",
    "                         \"-o\", output_image_dir]\n",
    "        self.verbose = verbose\n",
    "        \n",
    "    def exp_keys(self):\n",
    "        '''\n",
    "        [\"Comienzo\",\n",
    "                \"Fin\",\n",
    "                \"# de ciclos insumidos totales\",  \n",
    "                \"# de ciclos insumidos por llamada\"]\n",
    "        '''\n",
    "        return [\"# de ciclos insumidos totales\"] # por ahora solo nos interesa esta\n",
    "\n",
    "    def run_executable(self,run_args):\n",
    "        p = Popen(run_args, stdout=PIPE, bufsize=1)\n",
    "        with p.stdout:\n",
    "            for line in iter(p.stdout.readline, b''):\n",
    "                line = line.decode(\"utf-8\")\n",
    "                try:\n",
    "                    key, val = line[:-1].split(':')\n",
    "                    key = key.strip(\" \")\n",
    "                    if(key in self.exp_keys()):\n",
    "                        self.exp_results[key] = str_to_num(val)\n",
    "                except:\n",
    "                    pass\n",
    "        p.wait() # wait for the subprocess to exit\n",
    "\n",
    "    def print_help(self):\n",
    "        self.run_executable([self.tp_exec, \"-h\"])\n",
    "        return\n",
    "            \n",
    "    def run(self):\n",
    "        if self.verbose:\n",
    "            print(\"Run command:\")\n",
    "            print(flatten_list_of_strings(self.run_args))\n",
    "            print\n",
    "        self.run_executable(self.run_args)\n",
    "        return dict(self.exp_results) # esto es para copiar el resultado"
   ]
  },
  {
   "cell_type": "markdown",
   "metadata": {},
   "source": [
    "### Cargar varias exp en un dataframe"
   ]
  },
  {
   "cell_type": "code",
   "execution_count": null,
   "metadata": {},
   "outputs": [],
   "source": [
    "import pandas as pd\n",
    "from scipy import stats\n",
    "import numpy as np\n",
    "\n",
    "def get_exps(exp_runner, sample_size, z_score_threshold=2.5):\n",
    "\n",
    "    # correr exps\n",
    "    exps = pd.DataFrame([exp_runner.run() for i in range(sample_size)])\n",
    "\n",
    "    # descartar outliers\n",
    "    # exps = exps[stats.zscore(np.abs(exps['# de ciclos insumidos totales'])) < z_score_threshold]\n",
    "    \n",
    "    return exps"
   ]
  },
  {
   "cell_type": "markdown",
   "metadata": {},
   "source": [
    "### correr exps :D"
   ]
  },
  {
   "cell_type": "code",
   "execution_count": null,
   "metadata": {},
   "outputs": [],
   "source": [
    "filter_implementations_dir_path = \"../filters/Implementaciones{}/\".format(filter_name) \n",
    "\n",
    "mer=ExpRunner(filter_name = filter_name,\n",
    "        input_image_path=img_path,\n",
    "        implementation = \"asm\", \n",
    "        output_image_dir = \"./exp_output_images/\",\n",
    "        verbose=False)\n",
    "\n",
    "# exps = get_exps(mer, 30, z_score_threshold=2.5)\n",
    "exps = get_exps(mer, qty_exps, z_score_threshold=2.5)\n"
   ]
  },
  {
   "cell_type": "markdown",
   "metadata": {},
   "source": [
    "### Cuanto varia el tiempo de varias ejecuciones del mismo programa?"
   ]
  },
  {
   "cell_type": "code",
   "execution_count": null,
   "metadata": {},
   "outputs": [],
   "source": []
  }
 ],
 "metadata": {
  "kernelspec": {
   "display_name": "Python 3",
   "language": "python",
   "name": "python3"
  },
  "language_info": {
   "codemirror_mode": {
    "name": "ipython",
    "version": 3
   },
   "file_extension": ".py",
   "mimetype": "text/x-python",
   "name": "python",
   "nbconvert_exporter": "python",
   "pygments_lexer": "ipython3",
   "version": "3.6.2"
  }
 },
 "nbformat": 4,
 "nbformat_minor": 2
}
